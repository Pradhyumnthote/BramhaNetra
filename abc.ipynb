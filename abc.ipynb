{
  "cells": [
    {
      "cell_type": "code",
      "execution_count": 1,
      "metadata": {
        "id": "865a1a79"
      },
      "outputs": [],
      "source": [
        "\n",
        "import tensorflow as tf\n",
        "from tensorflow.keras import models, layers\n",
        "import matplotlib.pyplot as plt\n",
        "from IPython.display import HTML\n",
        "import tensorflow as tf\n",
        "from tensorflow.keras.layers import Flatten, Dense\n",
        "from tensorflow.keras.applications import MobileNet\n",
        "from tensorflow.keras.optimizers import Adam\n",
        "from tensorflow.keras.preprocessing.image import ImageDataGenerator"
      ],
      "id": "865a1a79"
    },
    {
      "cell_type": "code",
      "execution_count": 2,
      "metadata": {
        "colab": {
          "base_uri": "https://localhost:8080/"
        },
        "id": "vLsGvAeP48ME",
        "outputId": "8e7b1460-ef3e-4f59-c360-13da045f7069"
      },
      "outputs": [
        {
          "output_type": "stream",
          "name": "stdout",
          "text": [
            "Drive already mounted at /content/drive; to attempt to forcibly remount, call drive.mount(\"/content/drive\", force_remount=True).\n"
          ]
        }
      ],
      "source": [
        "from google.colab import drive\n",
        "drive.mount('/content/drive')"
      ],
      "id": "vLsGvAeP48ME"
    },
    {
      "cell_type": "code",
      "execution_count": 3,
      "metadata": {
        "id": "qPIVA-dn5FZq"
      },
      "outputs": [],
      "source": [
        "import zipfile\n",
        "with zipfile.ZipFile('/content/drive/MyDrive/English_data.zip', 'r') as zip_ref:\n",
        "  zip_ref.extractall('/content')\n"
      ],
      "id": "qPIVA-dn5FZq"
    },
    {
      "cell_type": "code",
      "execution_count": 71,
      "metadata": {
        "id": "3SEjYXv_-hPo"
      },
      "outputs": [],
      "source": [
        "# Constants\n",
        "IMAGE_SIZE = 124\n",
        "CHANNELS = 3\n",
        "\n",
        "RANDOM_STATE = 24 # for initialization ----- REMEMBER: to remove at the time of promotion to production\n",
        "tf.random.set_seed(RANDOM_STATE) # setting for Tensorflow as well\n",
        "TEST_SIZE = 0.2\n",
        "ALPHA = 0.001\n",
        "EPOCHS = 500 # number of cycles to run\n",
        "PATIENCE = 20\n",
        "LR_PATIENCE = 20\n",
        "FACTOR_LR = 0.5\n",
        "BATCH_SIZE = 32 # inline of Training Rows being 60000\n"
      ],
      "id": "3SEjYXv_-hPo"
    },
    {
      "cell_type": "code",
      "execution_count": 72,
      "metadata": {
        "id": "aWApvakp-h0H"
      },
      "outputs": [],
      "source": [
        "# train_ds = tf.keras.preprocessing.image_dataset_from_directory(\n",
        "\n",
        "#     \"English_data\",\n",
        "\n",
        "#     seed=123,\n",
        "\n",
        "#     shuffle=True,\n",
        "\n",
        "#     image_size=(IMAGE_SIZE, IMAGE_SIZE),\n",
        "\n",
        "#     batch_size=BATCH_SIZE\n",
        "\n",
        "# )\n"
      ],
      "id": "aWApvakp-h0H"
    },
    {
      "cell_type": "code",
      "source": [
        "train_ds =tf.keras.preprocessing.image_dataset_from_directory(\n",
        "    \"English_data\",\n",
        "    shuffle=True,\n",
        "    image_size=(IMAGE_SIZE, IMAGE_SIZE),\n",
        "    batch_size=BATCH_SIZE,\n",
        "    validation_split=TEST_SIZE, # what ratio of validation data\n",
        "    subset='training', # purpose\n",
        "    seed=RANDOM_STATE\n",
        ")\n",
        "# test data\n",
        "test_ds =tf.keras.preprocessing.image_dataset_from_directory(\n",
        "    \"English_data\",\n",
        "    shuffle=True,\n",
        "    image_size=(IMAGE_SIZE, IMAGE_SIZE),\n",
        "    batch_size=BATCH_SIZE,\n",
        "    validation_split=TEST_SIZE, # what ratio of validation data\n",
        "    subset='validation', # purpose\n",
        "    seed=RANDOM_STATE,\n",
        ")"
      ],
      "metadata": {
        "colab": {
          "base_uri": "https://localhost:8080/"
        },
        "id": "yuxvLbIf6hfN",
        "outputId": "8a95288a-3d89-4c45-92f2-123435a13b7b"
      },
      "id": "yuxvLbIf6hfN",
      "execution_count": 73,
      "outputs": [
        {
          "output_type": "stream",
          "name": "stdout",
          "text": [
            "Found 7525 files belonging to 315 classes.\n",
            "Using 6020 files for training.\n",
            "Found 7525 files belonging to 315 classes.\n",
            "Using 1505 files for validation.\n"
          ]
        }
      ]
    },
    {
      "cell_type": "code",
      "execution_count": 74,
      "metadata": {
        "id": "uLU5Fmy2_4pS"
      },
      "outputs": [],
      "source": [
        "\n",
        "# train_datagen = ImageDataGenerator(\n",
        "#     rescale=1./255,  # Normalize pixel values\n",
        "#     width_shift_range=0.2,  # Random horizontal shift\n",
        "#     height_shift_range=0.2,  # Random vertical shift\n",
        "#     shear_range=0.2,  # Random shear\n",
        "#     zoom_range=0.2,  # Random zoom\n",
        "#     rotation_range=20,  # Random rotation\n",
        "#     fill_mode='nearest'  # Fill mode for padding\n",
        "# )\n",
        "\n",
        "# train_augmented_ds = train_datagen.flow_from_directory(\n",
        "#     \"English_data\",\n",
        "#     target_size=(IMAGE_SIZE, IMAGE_SIZE),\n",
        "#     batch_size=BATCH_SIZE,\n",
        "#     class_mode='categorical'\n",
        "# )"
      ],
      "id": "uLU5Fmy2_4pS"
    },
    {
      "cell_type": "code",
      "execution_count": 75,
      "metadata": {
        "id": "JtO7-N8FBG2J"
      },
      "outputs": [],
      "source": [
        "\n",
        "\n",
        "train_ds = train_ds.map(lambda x, y: (x / 255.0, tf.one_hot(y, 315)))\n",
        "\n",
        "train_ds = train_ds.cache().shuffle(1000).prefetch(buffer_size=tf.data.AUTOTUNE)\n",
        "\n",
        "test_ds = test_ds.map(lambda x, y: (x / 255.0, tf.one_hot(y, 315)))\n",
        "\n",
        "test_ds = test_ds.cache().shuffle(1000).prefetch(buffer_size=tf.data.AUTOTUNE)"
      ],
      "id": "JtO7-N8FBG2J"
    },
    {
      "cell_type": "code",
      "source": [],
      "metadata": {
        "id": "V2PVA2uIbWIv"
      },
      "id": "V2PVA2uIbWIv",
      "execution_count": 75,
      "outputs": []
    },
    {
      "cell_type": "markdown",
      "source": [
        "# **InceptionResNetV2**"
      ],
      "metadata": {
        "id": "I-WoRJNXbWt3"
      },
      "id": "I-WoRJNXbWt3"
    },
    {
      "cell_type": "code",
      "source": [
        "from tensorflow.keras.applications.inception_resnet_v2 import InceptionResNetV2\n",
        "from tensorflow.keras.layers import Flatten, Dense\n",
        "from tensorflow.keras import Model\n",
        "\n",
        "# Define the InceptionResNetV2 model with random weights\n",
        "base_model = InceptionResNetV2(input_shape=(IMAGE_SIZE, IMAGE_SIZE, CHANNELS),\n",
        "                                include_top=False,\n",
        "                                weights=\"imagenet\",pooling='max')\n",
        "\n",
        "\n",
        "# Build the new model\n",
        "x = base_model.output\n",
        "x = Flatten()(x)\n",
        "x = Dense(64, activation='relu')(x)\n",
        "predictions = Dense(315, activation='softmax')(x)\n",
        "\n",
        "# Create the full model\n",
        "model = Model(inputs=base_model.input, outputs=predictions)\n",
        "\n",
        "\n"
      ],
      "metadata": {
        "id": "Ji6l8PVEaGJd"
      },
      "id": "Ji6l8PVEaGJd",
      "execution_count": 76,
      "outputs": []
    },
    {
      "cell_type": "code",
      "source": [
        "early_stopping_callback = tf.keras.callbacks.EarlyStopping(\n",
        "    monitor = 'val_loss',\n",
        "    patience=PATIENCE,\n",
        "    mode='auto',\n",
        "    baseline =None,\n",
        "    restore_best_weights=True,\n",
        "    verbose = 1)\n",
        "\n",
        "lr_decay = tf.keras.callbacks.ReduceLROnPlateau(\n",
        "    monitor='val_loss',\n",
        "    factor=FACTOR_LR,\n",
        "    patience=LR_PATIENCE,\n",
        "    verbose=1,\n",
        "    mode='auto'\n",
        ")\n"
      ],
      "metadata": {
        "id": "R_f_fvpKbRt9"
      },
      "id": "R_f_fvpKbRt9",
      "execution_count": 77,
      "outputs": []
    },
    {
      "cell_type": "code",
      "source": [
        "# Compile model\n",
        "model.compile(loss='categorical_crossentropy', optimizer=Adam(learning_rate=0.001), metrics=['accuracy'])"
      ],
      "metadata": {
        "id": "lHiBaLUfbn1W"
      },
      "id": "lHiBaLUfbn1W",
      "execution_count": 80,
      "outputs": []
    },
    {
      "cell_type": "code",
      "source": [
        "history = model.fit(train_ds, validation_data=test_ds,\n",
        "                    epochs=150,\n",
        "                    verbose=1,\n",
        "                    batch_size=BATCH_SIZE,\n",
        "                    callbacks=[early_stopping_callback, lr_decay]\n",
        "                   )"
      ],
      "metadata": {
        "colab": {
          "base_uri": "https://localhost:8080/"
        },
        "id": "gQmB5juZbR4E",
        "outputId": "d61545b4-f96a-4dea-8234-6d0e2ad661ff"
      },
      "id": "gQmB5juZbR4E",
      "execution_count": null,
      "outputs": [
        {
          "output_type": "stream",
          "name": "stdout",
          "text": [
            "Epoch 1/150\n",
            "189/189 [==============================] - 195s 261ms/step - loss: 4.7834 - accuracy: 0.1179 - val_loss: 46.3556 - val_accuracy: 0.0844 - lr: 0.0010\n",
            "Epoch 2/150\n",
            "189/189 [==============================] - 44s 233ms/step - loss: 1.6961 - accuracy: 0.5520 - val_loss: 1.0132 - val_accuracy: 0.6811 - lr: 0.0010\n",
            "Epoch 3/150\n",
            "189/189 [==============================] - 41s 219ms/step - loss: 0.4613 - accuracy: 0.8623 - val_loss: 0.5224 - val_accuracy: 0.8465 - lr: 0.0010\n",
            "Epoch 4/150\n",
            "130/189 [===================>..........] - ETA: 11s - loss: 0.1762 - accuracy: 0.9514"
          ]
        }
      ]
    },
    {
      "cell_type": "markdown",
      "metadata": {
        "id": "ZInPeXMI-Hs_"
      },
      "source": [],
      "id": "ZInPeXMI-Hs_"
    },
    {
      "cell_type": "code",
      "source": [
        "model_save_path = '/content/drive/My Drive/MyModels/InceptionResNetV2_max.h5'\n",
        "model.save(model_save_path)\n",
        "print(f\"Model saved to {model_save_path}\")\n"
      ],
      "metadata": {
        "colab": {
          "base_uri": "https://localhost:8080/"
        },
        "id": "Rar_26zKr0i3",
        "outputId": "324c8efe-bc2a-4384-c3a7-ae54196a5811"
      },
      "id": "Rar_26zKr0i3",
      "execution_count": 14,
      "outputs": [
        {
          "output_type": "stream",
          "name": "stderr",
          "text": [
            "/usr/local/lib/python3.10/dist-packages/keras/src/engine/training.py:3103: UserWarning: You are saving your model as an HDF5 file via `model.save()`. This file format is considered legacy. We recommend using instead the native Keras format, e.g. `model.save('my_model.keras')`.\n",
            "  saving_api.save_model(\n"
          ]
        },
        {
          "output_type": "stream",
          "name": "stdout",
          "text": [
            "Model saved to /content/drive/My Drive/MyModels/my_model.h5\n"
          ]
        }
      ]
    },
    {
      "cell_type": "code",
      "source": [
        "import numpy as np\n",
        "from PIL import Image\n",
        "from IPython.display import display\n",
        "from tensorflow.keras.preprocessing.image import img_to_array, load_img\n",
        "from tensorflow.keras.applications.inception_resnet_v2 import preprocess_input, decode_predictions\n",
        "from google.colab import files\n",
        "uploaded = files.upload()\n",
        "for fn in uploaded.keys():\n",
        "  display(Image.open(fn))\n"
      ],
      "metadata": {
        "colab": {
          "base_uri": "https://localhost:8080/",
          "height": 195
        },
        "id": "Y4pzFwUpsE5-",
        "outputId": "05badcf4-0336-4971-8bbb-5cc951b5098b"
      },
      "id": "Y4pzFwUpsE5-",
      "execution_count": 48,
      "outputs": [
        {
          "output_type": "display_data",
          "data": {
            "text/plain": [
              "<IPython.core.display.HTML object>"
            ],
            "text/html": [
              "\n",
              "     <input type=\"file\" id=\"files-005c2e50-a64d-4969-ad7e-d9d70a9a4f75\" name=\"files[]\" multiple disabled\n",
              "        style=\"border:none\" />\n",
              "     <output id=\"result-005c2e50-a64d-4969-ad7e-d9d70a9a4f75\">\n",
              "      Upload widget is only available when the cell has been executed in the\n",
              "      current browser session. Please rerun this cell to enable.\n",
              "      </output>\n",
              "      <script>// Copyright 2017 Google LLC\n",
              "//\n",
              "// Licensed under the Apache License, Version 2.0 (the \"License\");\n",
              "// you may not use this file except in compliance with the License.\n",
              "// You may obtain a copy of the License at\n",
              "//\n",
              "//      http://www.apache.org/licenses/LICENSE-2.0\n",
              "//\n",
              "// Unless required by applicable law or agreed to in writing, software\n",
              "// distributed under the License is distributed on an \"AS IS\" BASIS,\n",
              "// WITHOUT WARRANTIES OR CONDITIONS OF ANY KIND, either express or implied.\n",
              "// See the License for the specific language governing permissions and\n",
              "// limitations under the License.\n",
              "\n",
              "/**\n",
              " * @fileoverview Helpers for google.colab Python module.\n",
              " */\n",
              "(function(scope) {\n",
              "function span(text, styleAttributes = {}) {\n",
              "  const element = document.createElement('span');\n",
              "  element.textContent = text;\n",
              "  for (const key of Object.keys(styleAttributes)) {\n",
              "    element.style[key] = styleAttributes[key];\n",
              "  }\n",
              "  return element;\n",
              "}\n",
              "\n",
              "// Max number of bytes which will be uploaded at a time.\n",
              "const MAX_PAYLOAD_SIZE = 100 * 1024;\n",
              "\n",
              "function _uploadFiles(inputId, outputId) {\n",
              "  const steps = uploadFilesStep(inputId, outputId);\n",
              "  const outputElement = document.getElementById(outputId);\n",
              "  // Cache steps on the outputElement to make it available for the next call\n",
              "  // to uploadFilesContinue from Python.\n",
              "  outputElement.steps = steps;\n",
              "\n",
              "  return _uploadFilesContinue(outputId);\n",
              "}\n",
              "\n",
              "// This is roughly an async generator (not supported in the browser yet),\n",
              "// where there are multiple asynchronous steps and the Python side is going\n",
              "// to poll for completion of each step.\n",
              "// This uses a Promise to block the python side on completion of each step,\n",
              "// then passes the result of the previous step as the input to the next step.\n",
              "function _uploadFilesContinue(outputId) {\n",
              "  const outputElement = document.getElementById(outputId);\n",
              "  const steps = outputElement.steps;\n",
              "\n",
              "  const next = steps.next(outputElement.lastPromiseValue);\n",
              "  return Promise.resolve(next.value.promise).then((value) => {\n",
              "    // Cache the last promise value to make it available to the next\n",
              "    // step of the generator.\n",
              "    outputElement.lastPromiseValue = value;\n",
              "    return next.value.response;\n",
              "  });\n",
              "}\n",
              "\n",
              "/**\n",
              " * Generator function which is called between each async step of the upload\n",
              " * process.\n",
              " * @param {string} inputId Element ID of the input file picker element.\n",
              " * @param {string} outputId Element ID of the output display.\n",
              " * @return {!Iterable<!Object>} Iterable of next steps.\n",
              " */\n",
              "function* uploadFilesStep(inputId, outputId) {\n",
              "  const inputElement = document.getElementById(inputId);\n",
              "  inputElement.disabled = false;\n",
              "\n",
              "  const outputElement = document.getElementById(outputId);\n",
              "  outputElement.innerHTML = '';\n",
              "\n",
              "  const pickedPromise = new Promise((resolve) => {\n",
              "    inputElement.addEventListener('change', (e) => {\n",
              "      resolve(e.target.files);\n",
              "    });\n",
              "  });\n",
              "\n",
              "  const cancel = document.createElement('button');\n",
              "  inputElement.parentElement.appendChild(cancel);\n",
              "  cancel.textContent = 'Cancel upload';\n",
              "  const cancelPromise = new Promise((resolve) => {\n",
              "    cancel.onclick = () => {\n",
              "      resolve(null);\n",
              "    };\n",
              "  });\n",
              "\n",
              "  // Wait for the user to pick the files.\n",
              "  const files = yield {\n",
              "    promise: Promise.race([pickedPromise, cancelPromise]),\n",
              "    response: {\n",
              "      action: 'starting',\n",
              "    }\n",
              "  };\n",
              "\n",
              "  cancel.remove();\n",
              "\n",
              "  // Disable the input element since further picks are not allowed.\n",
              "  inputElement.disabled = true;\n",
              "\n",
              "  if (!files) {\n",
              "    return {\n",
              "      response: {\n",
              "        action: 'complete',\n",
              "      }\n",
              "    };\n",
              "  }\n",
              "\n",
              "  for (const file of files) {\n",
              "    const li = document.createElement('li');\n",
              "    li.append(span(file.name, {fontWeight: 'bold'}));\n",
              "    li.append(span(\n",
              "        `(${file.type || 'n/a'}) - ${file.size} bytes, ` +\n",
              "        `last modified: ${\n",
              "            file.lastModifiedDate ? file.lastModifiedDate.toLocaleDateString() :\n",
              "                                    'n/a'} - `));\n",
              "    const percent = span('0% done');\n",
              "    li.appendChild(percent);\n",
              "\n",
              "    outputElement.appendChild(li);\n",
              "\n",
              "    const fileDataPromise = new Promise((resolve) => {\n",
              "      const reader = new FileReader();\n",
              "      reader.onload = (e) => {\n",
              "        resolve(e.target.result);\n",
              "      };\n",
              "      reader.readAsArrayBuffer(file);\n",
              "    });\n",
              "    // Wait for the data to be ready.\n",
              "    let fileData = yield {\n",
              "      promise: fileDataPromise,\n",
              "      response: {\n",
              "        action: 'continue',\n",
              "      }\n",
              "    };\n",
              "\n",
              "    // Use a chunked sending to avoid message size limits. See b/62115660.\n",
              "    let position = 0;\n",
              "    do {\n",
              "      const length = Math.min(fileData.byteLength - position, MAX_PAYLOAD_SIZE);\n",
              "      const chunk = new Uint8Array(fileData, position, length);\n",
              "      position += length;\n",
              "\n",
              "      const base64 = btoa(String.fromCharCode.apply(null, chunk));\n",
              "      yield {\n",
              "        response: {\n",
              "          action: 'append',\n",
              "          file: file.name,\n",
              "          data: base64,\n",
              "        },\n",
              "      };\n",
              "\n",
              "      let percentDone = fileData.byteLength === 0 ?\n",
              "          100 :\n",
              "          Math.round((position / fileData.byteLength) * 100);\n",
              "      percent.textContent = `${percentDone}% done`;\n",
              "\n",
              "    } while (position < fileData.byteLength);\n",
              "  }\n",
              "\n",
              "  // All done.\n",
              "  yield {\n",
              "    response: {\n",
              "      action: 'complete',\n",
              "    }\n",
              "  };\n",
              "}\n",
              "\n",
              "scope.google = scope.google || {};\n",
              "scope.google.colab = scope.google.colab || {};\n",
              "scope.google.colab._files = {\n",
              "  _uploadFiles,\n",
              "  _uploadFilesContinue,\n",
              "};\n",
              "})(self);\n",
              "</script> "
            ]
          },
          "metadata": {}
        },
        {
          "output_type": "stream",
          "name": "stdout",
          "text": [
            "Saving set6_p21.png to set6_p21.png\n"
          ]
        },
        {
          "output_type": "display_data",
          "data": {
            "text/plain": [
              "<PIL.PngImagePlugin.PngImageFile image mode=RGB size=119x122>"
            ],
            "image/png": "[encoded data removed]"
          },
          "metadata": {}
        }
      ]
    },
    {
      "cell_type": "code",
      "source": [
        "# Assuming the uploaded file is 'my_image.jpg'\n",
        "img_path = 'set6_p21.png'\n",
        "img = load_img(img_path, target_size=(IMAGE_SIZE, IMAGE_SIZE))\n",
        "img_array = img_to_array(img)\n",
        "img_array = np.expand_dims(img_array, axis=0)\n",
        "img_array = preprocess_input(img_array)\n"
      ],
      "metadata": {
        "id": "_Hw9TqpUtCdo"
      },
      "id": "_Hw9TqpUtCdo",
      "execution_count": 49,
      "outputs": []
    },
    {
      "cell_type": "code",
      "source": [
        "predictions = model.predict(img_array)\n"
      ],
      "metadata": {
        "colab": {
          "base_uri": "https://localhost:8080/"
        },
        "id": "ZYCQTi4YtXIT",
        "outputId": "49bcc975-f2dc-4dac-b41d-f984d53c8557"
      },
      "id": "ZYCQTi4YtXIT",
      "execution_count": 50,
      "outputs": [
        {
          "output_type": "stream",
          "name": "stdout",
          "text": [
            "1/1 [==============================] - 0s 24ms/step\n"
          ]
        }
      ]
    },
    {
      "cell_type": "code",
      "source": [
        "labels[np.argmax(predictions)]"
      ],
      "metadata": {
        "colab": {
          "base_uri": "https://localhost:8080/",
          "height": 35
        },
        "id": "ZsjRN2OCtbq1",
        "outputId": "ef3b132c-1073-4046-a544-c40a8ffef062"
      },
      "id": "ZsjRN2OCtbq1",
      "execution_count": 51,
      "outputs": [
        {
          "output_type": "execute_result",
          "data": {
            "text/plain": [
              "'hu'"
            ],
            "application/vnd.google.colaboratory.intrinsic+json": {
              "type": "string"
            }
          },
          "metadata": {},
          "execution_count": 51
        }
      ]
    },
    {
      "cell_type": "code",
      "source": [
        "for x,y in train_ds:\n",
        "  print(y)\n",
        "  break"
      ],
      "metadata": {
        "colab": {
          "base_uri": "https://localhost:8080/"
        },
        "id": "ZPf97YQHtgT1",
        "outputId": "02f3bd7a-3b13-4999-a6ce-ca7511dafdc8"
      },
      "id": "ZPf97YQHtgT1",
      "execution_count": 24,
      "outputs": [
        {
          "output_type": "stream",
          "name": "stdout",
          "text": [
            "tf.Tensor(\n",
            "[[0. 0. 0. ... 0. 0. 0.]\n",
            " [0. 0. 0. ... 0. 0. 0.]\n",
            " [0. 0. 0. ... 0. 0. 0.]\n",
            " ...\n",
            " [0. 0. 0. ... 0. 0. 0.]\n",
            " [0. 0. 0. ... 0. 0. 0.]\n",
            " [0. 0. 0. ... 0. 0. 0.]], shape=(32, 315), dtype=float32)\n"
          ]
        }
      ]
    },
    {
      "cell_type": "code",
      "source": [
        "labels = os.listdir(\"/content/English_data\")"
      ],
      "metadata": {
        "id": "tnmsQaoAurm9"
      },
      "id": "tnmsQaoAurm9",
      "execution_count": 32,
      "outputs": []
    },
    {
      "cell_type": "code",
      "source": [
        "import os"
      ],
      "metadata": {
        "id": "GLBIssuwvdyw"
      },
      "id": "GLBIssuwvdyw",
      "execution_count": 30,
      "outputs": []
    },
    {
      "cell_type": "code",
      "source": [
        "model.summary()"
      ],
      "metadata": {
        "colab": {
          "base_uri": "https://localhost:8080/"
        },
        "id": "iDn-idQyvgJv",
        "outputId": "458a6c3a-c54b-4f5f-adee-5711d35226f4"
      },
      "id": "iDn-idQyvgJv",
      "execution_count": 52,
      "outputs": [
        {
          "output_type": "stream",
          "name": "stdout",
          "text": [
            "Model: \"model_1\"\n",
            "_________________________________________________________________\n",
            " Layer (type)                Output Shape              Param #   \n",
            "=================================================================\n",
            " input_3 (InputLayer)        [(None, 256, 256, 3)]     0         \n",
            "                                                                 \n",
            " resnet50 (Functional)       (None, 8, 8, 2048)        23587712  \n",
            "                                                                 \n",
            " flatten_1 (Flatten)         (None, 131072)            0         \n",
            "                                                                 \n",
            " dense_2 (Dense)             (None, 64)                8388672   \n",
            "                                                                 \n",
            " dense_3 (Dense)             (None, 315)               20475     \n",
            "                                                                 \n",
            "=================================================================\n",
            "Total params: 31996859 (122.06 MB)\n",
            "Trainable params: 8409147 (32.08 MB)\n",
            "Non-trainable params: 23587712 (89.98 MB)\n",
            "_________________________________________________________________\n"
          ]
        }
      ]
    },
    {
      "cell_type": "code",
      "source": [],
      "metadata": {
        "id": "sV_4odToxXmO"
      },
      "id": "sV_4odToxXmO",
      "execution_count": null,
      "outputs": []
    }
  ],
  "metadata": {
    "accelerator": "GPU",
    "colab": {
      "gpuType": "T4",
      "provenance": []
    },
    "kernelspec": {
      "display_name": "Python 3",
      "name": "python3"
    },
    "language_info": {
      "codemirror_mode": {
        "name": "ipython",
        "version": 3
      },
      "file_extension": ".py",
      "mimetype": "text/x-python",
      "name": "python",
      "nbconvert_exporter": "python",
      "pygments_lexer": "ipython3",
      "version": "3.11.4"
    }
  },
  "nbformat": 4,
  "nbformat_minor": 5
}